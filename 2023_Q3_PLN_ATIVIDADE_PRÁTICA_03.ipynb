{
  "cells": [
    {
      "cell_type": "markdown",
      "metadata": {
        "id": "view-in-github",
        "colab_type": "text"
      },
      "source": [
        "<a href=\"https://colab.research.google.com/github/Freitus/pln-atividade-02/blob/main/2023_Q3_PLN_ATIVIDADE_PR%C3%81TICA_03.ipynb\" target=\"_parent\"><img src=\"https://colab.research.google.com/assets/colab-badge.svg\" alt=\"Open In Colab\"/></a>"
      ]
    },
    {
      "cell_type": "markdown",
      "metadata": {
        "id": "Y6QILOdpOjwv"
      },
      "source": [
        "# **Processamento de Linguagem Natural [2023.Q3]**\n",
        "Prof. Alexandre Donizeti Alves"
      ]
    },
    {
      "cell_type": "markdown",
      "metadata": {
        "id": "8m67OOx9MX_3"
      },
      "source": [
        "### **ATIVIDADE PRÁTICA 03 [Tutorial sobre uma API]**\n",
        "\n",
        "---"
      ]
    },
    {
      "cell_type": "markdown",
      "metadata": {
        "id": "5Gk0nHKabBT-"
      },
      "source": [
        "A **ATIVIDADE PRÁTICA 03** deve ser feita utilizando o **Google Colab** com uma conta\n",
        "sua vinculada ao Gmail. O link do seu notebook, armazenado no Google Drive, além do link de um repositório no GitHub e os principais resultados da atividade, devem ser enviados usando o seguinte formulário:\n",
        "\n",
        "> https://forms.gle/nPsWnUuE5GCeXaiU8 (**AINDA EM CONSTRUÇÃO**)\n",
        "\n",
        "\n",
        "**IMPORTANTE**: A submissão deve ser feita APENAS POR UM INTEGRANTE DA EQUIPE até o dia 30/10 (segunda-feira - até às 23h59). Por favor, lembre-se de dar permissão de ACESSO IRRESTRITO para o professor da disciplina de PLN."
      ]
    },
    {
      "cell_type": "markdown",
      "metadata": {
        "id": "D7hJlilKM485"
      },
      "source": [
        "### **EQUIPE**\n",
        "\n",
        "---"
      ]
    },
    {
      "cell_type": "code",
      "source": [],
      "metadata": {
        "id": "kYFceuoFwSWW"
      },
      "execution_count": null,
      "outputs": []
    },
    {
      "cell_type": "code",
      "source": [],
      "metadata": {
        "id": "9-Uc1CVKwTHE"
      },
      "execution_count": null,
      "outputs": []
    },
    {
      "cell_type": "code",
      "source": [],
      "metadata": {
        "id": "Gc1F5xdswUXq"
      },
      "execution_count": null,
      "outputs": []
    },
    {
      "cell_type": "markdown",
      "metadata": {
        "id": "tnIArN0QY-Ek"
      },
      "source": [
        "**POR FAVOR, PREENCHER OS INTEGRANDES DA SUA EQUIPE:**\n",
        "\n",
        "\n",
        "**Integrante 01:**\n",
        "\n",
        "Renan Oliveira da Silva - 11201810188\n",
        "\n",
        "**Integrante 02:**\n",
        "\n",
        "Alex Freitas De Lisboa - 11100816"
      ]
    },
    {
      "cell_type": "markdown",
      "metadata": {
        "id": "6yExhaebs-nD"
      },
      "source": [
        "### **API**\n",
        "---"
      ]
    },
    {
      "cell_type": "markdown",
      "metadata": {
        "id": "DjJM_qhEZRy6"
      },
      "source": [
        "**QUAL A API SELECIONADA POR SUA EQUIPE?**\n",
        "\n",
        "`API: `BOT API\n",
        "\n",
        "`Site oficial: `https://web.telegram.org/a/\n",
        "\n",
        "`Link para a documentação oficial:`https://core.telegram.org/bots/api"
      ]
    },
    {
      "cell_type": "markdown",
      "metadata": {
        "id": "EtjgWQRzNphL"
      },
      "source": [
        "### **DESCRIÇÃO**\n",
        "---"
      ]
    },
    {
      "cell_type": "markdown",
      "metadata": {
        "id": "fXTwkiiGs2BV"
      },
      "source": [
        "Implementar um `notebook` no `Google Colab` para demonstrar passo a passo como usar uma determinada **API** em `Python`, ou seja, criar um **TUTORIAL** destacando desde a instalação e configuração da **API** até as principais finalidades. O **TUTORIAL** deve ser o mais completo possível, com diversos exemplos de uso e permitindo ser facilmente reproduzido.\n",
        "\n",
        "A **API** deve ser selecionada na seguinte planilha:\n",
        "\n",
        "https://docs.google.com/spreadsheets/d/1-Q1szJ3UmoE2_3LtcRQyqid5fPIcnpsR3XAPnoxLj2o/edit?usp=sharing\n",
        "\n",
        ">\n",
        "\n",
        "**IMPORTANTE:** É obrigatório usar o e-mail da UFABC.\n",
        "\n",
        ">\n",
        "\n",
        "**DICA:** Por favor, insira o seu nome ou da sua equipe na ordem definida na planilha. A escolha da **API** deve ser feita de acordo com a lista disponibilizada na planilha. Cada **API** só pode ser escolhida por, no **MÁXIMO**, 2 equipes."
      ]
    },
    {
      "cell_type": "markdown",
      "metadata": {
        "id": "wbICIIGcYPNf"
      },
      "source": [
        "### **ROTEIRO PARA APRESENTAÇÃO DE UMA API**\n",
        "\n",
        "---\n",
        ">\n",
        "\n",
        "\n",
        "**IMPORTANTE**: consulta feita no ChatGPT\n",
        "\n",
        ">\n",
        "\n",
        "Como escrever um tutorial sobre uma API em Python usando o Google Colab com foco nas etapas essenciais. Aqui está um guia rápido:\n",
        "\n",
        ">\n",
        "\n",
        "* **Passo 01: Introdução**\n",
        "\n",
        "  >  Apresente a API que você está explicando.\n",
        "  \n",
        "A API do Telegram é um conjunto de métodos e interfaces disponibilizados pelo Telegram para permitir que desenvolvedores criem aplicativos e bots que possam interagir com a plataforma. Ela utiliza o protocolo HTTPS para comunicação e segue os princípios do estilo de arquitetura REST (Representational State Transfer).\n",
        "\n",
        "A API do Telegram permite que os desenvolvedores acessem e manipulem várias funcionalidades da plataforma. Alguns exemplos de recursos disponíveis incluem:\n",
        "\n",
        "Envio e recebimento de mensagens: Através da API, é possível enviar mensagens de texto, mídias (como imagens, vídeos, áudios e documentos) e até mesmo criar botões interativos para interagir com os usuários.\n",
        "\n",
        "Gerenciamento de grupos e canais: É possível criar, editar e gerenciar grupos e canais, adicionar ou remover membros, definir permissões e realizar outras operações relacionadas à administração desses espaços.\n",
        "\n",
        "Autenticação e autorização: A API permite autenticar usuários, verificar as permissões de acesso e realizar operações seguras.\n",
        "\n",
        "Obtenção de informações de usuários: É possível obter detalhes sobre os usuários, como seus nomes, IDs, informações de contato e outras informações disponíveis em seus perfis.\n",
        "\n",
        "Integração com notificações: A API oferece suporte a notificações push, permitindo que os aplicativos enviem notificações para os usuários no Telegram.\n",
        "\n",
        "  >  Explique por que é útil ou relevante.\n",
        "  A API do Telegram é útil por vários motivos:\n",
        "\n",
        "Integração com aplicativos e serviços: Ela permite que desenvolvedores integrem facilmente o Telegram a outros aplicativos e serviços, como sistemas de suporte ao cliente, plataformas de comércio eletrônico, serviços de notícias, entre outros.\n",
        "\n",
        "Automação de tarefas: Com a API, é possível desenvolver bots que realizem tarefas automatizadas, como responder a perguntas frequentes, fornecer informações em tempo real, realizar consultas em bancos de dados, entre outros.\n",
        "\n",
        "Comunicação interativa: Através da API, é possível criar bots que interajam com os usuários de forma dinâmica, oferecendo opções de escolha, coletando informações e respondendo a comandos específicos.\n",
        "\n",
        "Desenvolvimento de aplicativos personalizados: A API permite que desenvolvedores criem aplicativos personalizados que utilizem as funcionalidades do Telegram, oferecendo uma experiência única aos usuários.\n",
        "\n",
        "Em resumo, a API do Telegram é uma ferramenta poderosa que permite aos desenvolvedores estender e personalizar as funcionalidades da plataforma Telegram, integrando-a a outros sistemas e desenvolvendo bots e aplicativos personalizados.\n",
        "\n",
        "* **Passo 02: Configuração no Google Colab**\n",
        "\n",
        "  > Explique como os leitores podem abrir um novo notebook no Google Colab.\n",
        "  \n",
        "  Para Criação de um BOT no Telegram utilizando o google colab primeiramente acesse o site do Google Colab usando o seu navegador\n",
        "\n",
        "  Se você estiver logado em uma conta do Google, será direcionado para a página inicial do Colab. Caso contrário, faça login usando sua conta do Google.\n",
        "  \n",
        "  Na página inicial do Colab, clique em \"Novo notebook\" ou vá para \"Arquivo\" -> \"Novo notebook\".\n",
        "  \n",
        "  Agora você está pronto para criar seu notebook e começar a codificar o bot do Telegram. O Colab oferece suporte a notebooks Jupyter, onde você pode escrever e executar código em células individuais.\n",
        "  \n",
        "  Comece importando as bibliotecas necessárias para criar o bot do Telegram. Por exemplo, você pode importar a biblioteca python-telegram-bot:\n",
        "\n",
        "  > Mostre como importar bibliotecas necessárias.\n",
        "\n",
        "  Primeiramente antes da implementação do código, será necessário importar as seguintes bibliotecas:\n",
        "  \n",
        "  !pip install python-telegram-bot\n",
        "  import telegram\n",
        "  Essas importações são necessárias para criar o bot e definir os manipuladores de eventos\n",
        "\n",
        "  Em seguida, você pode começar a escrever seu código para criar o bot. Geralmente, você precisará importar as classes e métodos relevantes da biblioteca python-telegram-bot e definir os manipuladores de eventos para responder a diferentes comandos ou mensagens recebidas.\n",
        "\n",
        "  À medida que você escreve o código, pode executar cada célula individualmente clicando no botão de play ao lado da célula ou usando o atalho de teclado Shift+Enter.\n",
        "  \n",
        "  Durante a execução, o Colab fornecerá uma saída interativa abaixo de cada célula de código, onde você poderá ver os resultados e mensagens de erro, se houver.\n",
        "  \n",
        "  Você pode adicionar novas células de código clicando no botão \"+\" acima das células existentes.\n",
        "  \n",
        "  Lembre-se de que o Colab é baseado em nuvem, então, se você fechar a janela do navegador, precisará reabrir o notebook e executar novamente o código desde o início. No entanto, você também pode salvar seu notebook no Google Drive para acessá-lo posteriormente.\n",
        "\n",
        "  (a importação de todas as bibliotecas serão colocadas logo abaixo onde demonstraremos a execução do cógigo)\n",
        "\n",
        "  > Instrua sobre como instalar quaisquer bibliotecas adicionais, se necessário.\n",
        "\n",
        "* **Passo 03: Autenticação (se aplicável)**\n",
        "\n",
        "  > Descreva como configurar a autenticação, caso a API exija.\n",
        "\n",
        "  Para iniciar a Criação do BOT primeiro será necessário Criar um novo bot no Telegram utilizando o BotFather para obter a token de acesso do seu bot.\n",
        "\n",
        "  > Forneça orientações sobre a obtenção de chaves de API ou tokens.\n",
        "\n",
        "  Para isso, Abra o aplicativo Telegram e pesquise por \"BotFather\" na barra de pesquisa.\n",
        "\n",
        "  Clique no resultado da pesquisa para abrir o perfil do BotFather.\n",
        "\n",
        "  Clique em \"Iniciar\" para iniciar uma conversa com o BotFather.\n",
        "\n",
        "  Digite o comando \"/newbot\" para criar um novo bot.\n",
        "\n",
        "  O BotFather solicitará um nome para o seu bot. Digite um nome de sua escolha (por exemplo, \"MeuBotDeResposta\") e envie.\n",
        "\n",
        "  Em seguida, o BotFather solicitará um nome de usuário para o seu bot. Esse nome de usuário deve terminar com a palavra \"bot\" e ser único (por exemplo, \"MeuBotDeResposta\"). Digite um nome de usuário desejado e envie.\n",
        "\n",
        "  O BotFather irá gerar uma mensagem de confirmação, incluindo a token de acesso do seu bot. A token será uma sequência alfanumérica semelhante a \"1234567890:ABCDEFGHIJKLMNOPQRSTU1234567890\". Anote essa token, pois você precisará dela para configurar o seu bot no código.\n",
        "\n",
        "  Para finalizar o processo, você pode definir uma descrição para o seu bot opcionalmente. Digite uma descrição, se desejar, ou apenas envie uma mensagem vazia.\n",
        "\n",
        "  Parabéns! Agora você criou o seu bot no Telegram e obteve a token de acesso necessária.\n",
        "\n",
        "  Certifique-se de substituir 'TOKEN' no código pelos números e letras da sua token de acesso real, obtida do BotFather.\n",
        "\n",
        "* **Passo 04: Utilização Básica da API**\n",
        "\n",
        "  > Demonstre como fazer uma solicitação simples à API.\n",
        "\n",
        "  Para realização de uma demonstração será necessário ter em mãos o código Token e o ID do chat, informações recebidas via BotFather.\n",
        "\n",
        "  o exemplo segue logo abaixo junto à todas as implementações.\n",
        "\n",
        "  Neste exemplo, importamos a biblioteca telegram e definimos uma função chamada enviar_mensagem. A função cria uma instância do bot usando o token fornecido e usa o método send_message para enviar a mensagem especificada para o chat ou usuário com o ID fornecido.\n",
        "\n",
        "  Para testar o código, substitua 'seu_token_aqui' pelo token do seu bot do Telegram e defina o chat_id com o ID do chat ou usuário para o qual deseja enviar a mensagem. Em seguida, chame a função enviar_mensagem passando o chat_id e a mensagem desejada.\n",
        "\n",
        "  Lembre-se de que você precisa ter permissão para enviar mensagens para o chat ou usuário especificado. Certifique-se de que seu bot esteja adicionado ao chat ou que você esteja enviando a mensagem para um usuário com o qual seu bot tenha interação permitida.\n",
        "\n",
        "  Esse código é um exemplo simples para demonstrar como fazer uma solicitação básica à API do Telegram para enviar uma mensagem. Você pode expandir e personalizar o código de acordo com suas necessidades, adicionando manipuladores de eventos, comandos personalizados e outras funcionalidades oferecidas pela biblioteca python-telegram-bot.\n",
        "\n",
        "  > Mostre como processar a resposta da API.\n",
        "\n",
        "  A implementação segue junto as outras logo abaixo.\n",
        "\n",
        "Neste exemplo, adicionamos o código para processar a resposta da API após o envio da mensagem. O método send_message retorna um objeto Message representando a mensagem enviada. Armazenamos essa resposta na variável response.\n",
        "\n",
        "Em seguida, verificamos se a resposta é válida (ou seja, se a mensagem foi enviada com sucesso). Se a resposta existir, imprimimos uma mensagem de sucesso junto com o ID da mensagem usando response.message_id. Caso contrário, exibimos uma mensagem de falha ao enviar a mensagem.\n",
        "\n",
        "Essa é apenas uma maneira básica de processar a resposta da API do Telegram. Dependendo do que você deseja realizar, você pode adicionar lógica adicional para lidar com diferentes tipos de respostas, como mensagens recebidas, atualizações do chat, entre outros.\n",
        "\n",
        "* **Passo 05: Exemplos Práticos**\n",
        "\n",
        "  > Forneça exemplos práticos e úteis que os leitores podem seguir.\n",
        "\n",
        "Os exemplos práticos seguem logo abaixo, junto as suas descrições, os códigos seguem mais abaixo na aba Configuração deste tutorial.\n",
        "\n",
        "Exemplo 1 - Responder a mensagens de texto:\n",
        "\n",
        "Descrição: Neste exemplo, o bot é configurado para responder a mensagens de texto enviadas pelos usuários. A função handle_message é chamada toda vez que uma mensagem de texto é recebida. Ela extrai o texto da mensagem, obtém o ID do chat e envia uma resposta de volta para o usuário.\n",
        "\n",
        "Exemplo 2 - Enviar uma foto em resposta a um comando:\n",
        "\n",
        "Descrição: Neste exemplo, o bot é configurado para responder ao comando /start enviando uma foto e uma legenda de boas-vindas. A função handle_start_command é chamada quando o comando é recebido e envia uma foto usando o método send_photo junto com a URL da foto e a legenda.\n",
        "\n",
        "Exemplo 3 - Processar atualizações de teclado inline:\n",
        "\n",
        "Descrição: Neste exemplo, o bot processa atualizações de teclado inline. Quando um usuário seleciona uma opção do teclado, a função handle_inline_keyboard é chamada. Ela verifica a opção selecionada (query.data) e envia uma resposta correspondente usando o método edit_message_text para editar a mensagem original.\n",
        "\n",
        "Esses exemplos fornecem um ponto de partida para implementar funcionalidades básicas em seu bot do Telegram. Lembre-se de adaptar o código, substituindo 'seu_token_aqui' pelo token do seu bot e adicionando mais manipuladores de eventos, comandos e lógica personalizada de acordo com suas necessidades.\n",
        "\n",
        "  > Mostre como aplicar a API em cenários do mundo real.\n",
        "\n",
        "  Temos alguns exemplos de como podemos aplicar a API do Telegram, esses exemplos a seguir demonstram casos de uso praticos em que a API pode ser utilizada para criar bots úteis e interativos:\n",
        "\n",
        "  Bot de Atendimento ao Cliente:\n",
        "  -Receber mensagens de usuários com dúvidas ou consultas.\n",
        "  -Responder automaticamente com informações relevantes ou direcionar para um atendente humano.\n",
        "  -Armazenar e registrar conversas para fins de análise e acompanhamento.\n",
        "\n",
        "  Bot de Notícias:\n",
        "  -Receber inscrições de usuários interessados em notícias específicas.\n",
        "  -Enviar atualizações regulares sobre notícias relevantes com base nas preferências dos usuários.\n",
        "  -Permitir que os usuários solicitem notícias específicas ou assuntos de seu interesse.\n",
        "\n",
        "  Bot de Agendamento:\n",
        "  -Permitir que os usuários agendem compromissos ou reservem horários.\n",
        "  -Manter um calendário atualizado e disponível para consulta.\n",
        "  -Enviar lembretes automáticos de compromissos agendados.\n",
        "\n",
        "  Bot de Monitoramento de Preços:\n",
        "  -Rastrear preços de produtos ou serviços em sites de comércio eletrônico.\n",
        "  -Notificar os usuários quando o preço de um item desejado atingir um determinado valor.\n",
        "  -Fornecer informações adicionais, como avaliações de produtos e disponibilidade.\n",
        "\n",
        "  Bot de Gerenciamento de Tarefas:\n",
        "  -Permitir que os usuários criem e gerenciem suas listas de tarefas.\n",
        "  -Enviar lembretes diários ou semanais com as tarefas pendentes.\n",
        "  -Oferecer recursos de colaboração, permitindo que os usuários compartilhem listas de tarefas com outras pessoas.\n",
        "\n",
        "***Passo 06: Considerações**\n",
        "\n",
        "  > Recapitule os principais pontos do tutorial.\n",
        "\n",
        "  Certamente, diante das informaações apresentadas, os principais pontos para implementação do notebook serão:\n",
        "\n",
        "  Primeiramente será necessário se registrar no Telegram: Para começar, você precisa ter uma conta no Telegram. Baixe o aplicativo em seu dispositivo móvel ou acesse o Telegram Web.\n",
        "\n",
        "  Criar um bot no BotFather: O BotFather é o bot oficial do Telegram para criação e gerenciamento de bots. Inicie uma conversa com o BotFather e siga as instruções para criar um novo bot. Ele fornecerá um token de acesso necessário para interagir com a API do Telegram.\n",
        "\n",
        "  Instalar as bibliotecas necessárias: Utilize um ambiente de programação Python e instale a biblioteca python-telegram-bot, que fornece uma interface de alto nível para interagir com a API do Telegram. Você pode instalá-la usando o pip, o gerenciador de pacotes do Python.\n",
        "\n",
        "  Importar as bibliotecas e configure o bot: No seu notebook Python, importe as bibliotecas necessárias, incluindo a biblioteca python-telegram-bot. Em seguida, configure o bot com o token de acesso fornecido pelo BotFather.\n",
        "\n",
        "  Definir os comandos e respostas do bot: Crie funções para lidar com os comandos que seu bot receberá. Por exemplo, se o usuário enviar o comando \"/start\", você pode definir uma função para responder com uma mensagem de boas-vindas. Use a estrutura de manipuladores de comandos da biblioteca python-telegram-bot para isso.\n",
        "\n",
        "  Iniciar o bot e aguarde eventos: Após definir os comandos e respostas, inicie o bot e aguarde eventos. A biblioteca python-telegram-bot possui um método updater.start_polling() que permite ao bot ficar ativo e responder a mensagens e comandos enviados pelos usuários.\n",
        "\n",
        "  Teste e itere: Execute o código do notebook e teste seu bot do Telegram. Verifique se as respostas estão corretas e se o bot está se comportando conforme o esperado. Se necessário, faça ajustes no código e itere no processo até que seu bot funcione como desejado.\n",
        "  \n",
        "  > Incentive os leitores a explorar mais a API e experimentar por conta própria.\n",
        "\n",
        "  Como forma de incentivo para exploração da API, podemos separar alguns pontos principais:\n",
        "\n",
        "  Criatividade ilimitada: A API do Telegram oferece uma ampla gama de recursos e possibilidades. Ao explorar a API, você pode criar bots personalizados com funcionalidades exclusivas, como envio automático de mensagens, integração com outros serviços, gerenciamento de grupos e canais, entre outros. Sua criatividade é o limite!\n",
        "\n",
        "  Interação com os usuários: Com a API do Telegram, você pode desenvolver bots interativos e envolventes que podem responder a comandos, fornecer informações, realizar ações específicas e muito mais. Isso permite que você crie experiências personalizadas para os usuários e ofereça serviços úteis.\n",
        "\n",
        "  Aprender programação e desenvolvimento de bots: Explorar a API do Telegram é uma ótima oportunidade para aprender e aprimorar suas habilidades de programação. Ao experimentar com a criação de bots, você terá a chance de trabalhar com linguagens como Python, aprender sobre APIs, manipular dados e desenvolver soluções práticas.\n",
        "\n",
        "  Comunidade ativa e suporte: O Telegram possui uma comunidade ativa de desenvolvedores e entusiastas que estão dispostos a ajudar e compartilhar conhecimentos. Há grupos e fóruns dedicados a discutir a API do Telegram, onde você pode obter suporte, trocar ideias e aprender com os outros.\n",
        "\n",
        "  Integração com outros serviços: A API do Telegram pode ser integrada com uma variedade de outros serviços e plataformas, como bancos de dados, APIs de terceiros, sistemas de notificação e muito mais. Isso permite que você crie soluções abrangentes e conectadas, expandindo ainda mais as possibilidades do seu bot.\n",
        "\n",
        "* **Passo 07: Publicação**\n",
        "\n",
        "   > Considere compartilhar seu tutorial em plataformas como Medium, GitHub (obrigatório) ou seu blog pessoal.\n",
        "\n",
        "* **Passo 08: Promoção**\n",
        "\n",
        "  > Compartilhe seu tutorial nas redes sociais, grupos de desenvolvedores e fóruns relevantes.\n",
        "\n",
        "**IMPORTANTE**: Lembre-se de manter o tutorial curto e direto ao ponto. Use exemplos de código eficazes e forneça informações práticas que os leitores possam seguir facilmente. O Google Colab é uma ótima plataforma para compartilhar tutoriais, pois permite que os leitores executem o código diretamente no navegador.\n"
      ]
    },
    {
      "cell_type": "markdown",
      "metadata": {
        "id": "gWsBYQNtxmum"
      },
      "source": [
        "### **CRITÉRIOS DE AVALIAÇÃO**\n",
        "---\n"
      ]
    },
    {
      "cell_type": "markdown",
      "metadata": {
        "id": "5iHdx4BXYruQ"
      },
      "source": [
        "As 3 equipes que **criarem os melhores tutoriais**  terão o peso diminuido na AVALIAÇÃO (Prova Escrita) em **25%** (caindo de 40 para 30).\n",
        "\n",
        "**IMPORTANTE**: a diminuição no peso da AVALIAÇÃO será aplicado para todos os membros da equipe.\n",
        "\n",
        "\n",
        "\n"
      ]
    },
    {
      "cell_type": "markdown",
      "metadata": {
        "id": "nw09lujGvfjc"
      },
      "source": [
        "### **TUTORIAL**\n",
        "---"
      ]
    },
    {
      "cell_type": "markdown",
      "metadata": {
        "id": "5q9zcrJj0n4H"
      },
      "source": [
        "**INFORMAR O NOME DA API AQUI**\n",
        "\n",
        "Bot API ou API de Bots"
      ]
    },
    {
      "cell_type": "markdown",
      "metadata": {
        "id": "AD7LiZNAaMzv"
      },
      "source": [
        "**SUGESTÃO**: Usar o **ROTEIRO** para apresentação de uma **API**"
      ]
    },
    {
      "cell_type": "markdown",
      "metadata": {
        "id": "ZM2EJhRIaaa2"
      },
      "source": [
        "#### **INTRODUÇÃO**"
      ]
    },
    {
      "cell_type": "markdown",
      "metadata": {
        "id": "FjG5RIW5bMfd"
      },
      "source": [
        "**Descrição da API**\n"
      ]
    },
    {
      "cell_type": "markdown",
      "metadata": {
        "id": "7kndSzDVbQkd"
      },
      "source": [
        "\n",
        "A API de Bots do Telegram é uma interface de programação que permite aos desenvolvedores criar e interagir com bots no aplicativo Telegram. Com ela, é possível enviar mensagens, gerenciar grupos, receber e responder a mensagens, obter informações dos usuários e integrar com outros serviços. A API utiliza chamadas HTTP e tokens de acesso para autenticação. É uma ferramenta poderosa para criar bots personalizados e automatizar interações com os usuários do Telegram.\n",
        "\n",
        "\n"
      ]
    },
    {
      "cell_type": "markdown",
      "metadata": {
        "id": "5DIH_lmdaqrh"
      },
      "source": [
        "#### **CONFIGURAÇÃO**"
      ]
    },
    {
      "cell_type": "code",
      "execution_count": null,
      "metadata": {
        "colab": {
          "base_uri": "https://localhost:8080/"
        },
        "id": "g2IKn7DKA90j",
        "outputId": "ae2b4d6a-a5a0-4d9e-b78d-fbada0aa38ff"
      },
      "outputs": [
        {
          "output_type": "stream",
          "name": "stdout",
          "text": [
            "Collecting python-telegram-bot\n",
            "  Downloading python_telegram_bot-20.6-py3-none-any.whl (548 kB)\n",
            "\u001b[2K     \u001b[90m━━━━━━━━━━━━━━━━━━━━━━━━━━━━━━━━━━━━━━━━\u001b[0m \u001b[32m548.5/548.5 kB\u001b[0m \u001b[31m8.2 MB/s\u001b[0m eta \u001b[36m0:00:00\u001b[0m\n",
            "\u001b[?25hCollecting httpx~=0.25.0 (from python-telegram-bot)\n",
            "  Downloading httpx-0.25.0-py3-none-any.whl (75 kB)\n",
            "\u001b[2K     \u001b[90m━━━━━━━━━━━━━━━━━━━━━━━━━━━━━━━━━━━━━━━━\u001b[0m \u001b[32m75.7/75.7 kB\u001b[0m \u001b[31m9.8 MB/s\u001b[0m eta \u001b[36m0:00:00\u001b[0m\n",
            "\u001b[?25hRequirement already satisfied: certifi in /usr/local/lib/python3.10/dist-packages (from httpx~=0.25.0->python-telegram-bot) (2023.7.22)\n",
            "Collecting httpcore<0.19.0,>=0.18.0 (from httpx~=0.25.0->python-telegram-bot)\n",
            "  Downloading httpcore-0.18.0-py3-none-any.whl (76 kB)\n",
            "\u001b[2K     \u001b[90m━━━━━━━━━━━━━━━━━━━━━━━━━━━━━━━━━━━━━━━━\u001b[0m \u001b[32m76.0/76.0 kB\u001b[0m \u001b[31m9.5 MB/s\u001b[0m eta \u001b[36m0:00:00\u001b[0m\n",
            "\u001b[?25hRequirement already satisfied: idna in /usr/local/lib/python3.10/dist-packages (from httpx~=0.25.0->python-telegram-bot) (3.4)\n",
            "Requirement already satisfied: sniffio in /usr/local/lib/python3.10/dist-packages (from httpx~=0.25.0->python-telegram-bot) (1.3.0)\n",
            "Requirement already satisfied: anyio<5.0,>=3.0 in /usr/local/lib/python3.10/dist-packages (from httpcore<0.19.0,>=0.18.0->httpx~=0.25.0->python-telegram-bot) (3.7.1)\n",
            "Collecting h11<0.15,>=0.13 (from httpcore<0.19.0,>=0.18.0->httpx~=0.25.0->python-telegram-bot)\n",
            "  Downloading h11-0.14.0-py3-none-any.whl (58 kB)\n",
            "\u001b[2K     \u001b[90m━━━━━━━━━━━━━━━━━━━━━━━━━━━━━━━━━━━━━━━━\u001b[0m \u001b[32m58.3/58.3 kB\u001b[0m \u001b[31m7.4 MB/s\u001b[0m eta \u001b[36m0:00:00\u001b[0m\n",
            "\u001b[?25hRequirement already satisfied: exceptiongroup in /usr/local/lib/python3.10/dist-packages (from anyio<5.0,>=3.0->httpcore<0.19.0,>=0.18.0->httpx~=0.25.0->python-telegram-bot) (1.1.3)\n",
            "Installing collected packages: h11, httpcore, httpx, python-telegram-bot\n",
            "Successfully installed h11-0.14.0 httpcore-0.18.0 httpx-0.25.0 python-telegram-bot-20.6\n",
            "Requirement already satisfied: python-telegram-bot in /usr/local/lib/python3.10/dist-packages (20.6)\n",
            "Requirement already satisfied: httpx~=0.25.0 in /usr/local/lib/python3.10/dist-packages (from python-telegram-bot) (0.25.0)\n",
            "Requirement already satisfied: certifi in /usr/local/lib/python3.10/dist-packages (from httpx~=0.25.0->python-telegram-bot) (2023.7.22)\n",
            "Requirement already satisfied: httpcore<0.19.0,>=0.18.0 in /usr/local/lib/python3.10/dist-packages (from httpx~=0.25.0->python-telegram-bot) (0.18.0)\n",
            "Requirement already satisfied: idna in /usr/local/lib/python3.10/dist-packages (from httpx~=0.25.0->python-telegram-bot) (3.4)\n",
            "Requirement already satisfied: sniffio in /usr/local/lib/python3.10/dist-packages (from httpx~=0.25.0->python-telegram-bot) (1.3.0)\n",
            "Requirement already satisfied: anyio<5.0,>=3.0 in /usr/local/lib/python3.10/dist-packages (from httpcore<0.19.0,>=0.18.0->httpx~=0.25.0->python-telegram-bot) (3.7.1)\n",
            "Requirement already satisfied: h11<0.15,>=0.13 in /usr/local/lib/python3.10/dist-packages (from httpcore<0.19.0,>=0.18.0->httpx~=0.25.0->python-telegram-bot) (0.14.0)\n",
            "Requirement already satisfied: exceptiongroup in /usr/local/lib/python3.10/dist-packages (from anyio<5.0,>=3.0->httpcore<0.19.0,>=0.18.0->httpx~=0.25.0->python-telegram-bot) (1.1.3)\n"
          ]
        }
      ],
      "source": [
        "#**Passo 02: Configuração no Google Colab**\n",
        "#importação das bibliotecas necessárias:\n",
        "!pip install --upgrade python-telegram-bot\n",
        "!pip install python-telegram-bot\n",
        "import telegram"
      ]
    },
    {
      "cell_type": "code",
      "execution_count": null,
      "metadata": {
        "colab": {
          "base_uri": "https://localhost:8080/",
          "height": 141
        },
        "id": "oqM3mRBsbBYZ",
        "outputId": "20d9c54f-3d00-45b8-f1f2-08bcc78c4a10"
      },
      "outputs": [
        {
          "output_type": "error",
          "ename": "IndentationError",
          "evalue": "ignored",
          "traceback": [
            "\u001b[0;36m  File \u001b[0;32m\"<ipython-input-5-fbde355585a6>\"\u001b[0;36m, line \u001b[0;32m5\u001b[0m\n\u001b[0;31m    '# Defina o token do seu bot\u001b[0m\n\u001b[0m    ^\u001b[0m\n\u001b[0;31mIndentationError\u001b[0m\u001b[0;31m:\u001b[0m unexpected indent\n"
          ]
        }
      ],
      "source": [
        "# Demonstre como fazer uma solicitação simples à API.\n",
        "\n",
        "import telegram\n",
        "\n",
        "  '# Defina o token do seu bot\n",
        "  TOKEN = 'seu_token_aqui'\n",
        "\n",
        "  def enviar_mensagem(chat_id, mensagem):\n",
        "\n",
        "    bot = telegram.Bot(token=TOKEN)\n",
        "    bot.send_message(chat_id=chat_id, text=mensagem)\n",
        "\n",
        "  '# Exemplo de uso: enviar uma mensagem para um chat específico\n",
        "  chat_id = 'ID_do_chat_aqui'  # Substitua pelo ID do chat ou usuário de destino\n",
        "  mensagem = 'Olá, isso é uma mensagem de teste!'\n",
        "  enviar_mensagem(chat_id, mensagem)"
      ]
    },
    {
      "cell_type": "markdown",
      "metadata": {
        "id": "SwZgsj4narLo"
      },
      "source": [
        "#### **AUTENTICAÇÃO (SE APLICÁVEL)**"
      ]
    },
    {
      "cell_type": "code",
      "execution_count": null,
      "metadata": {
        "id": "uzdu2MfwbA1R"
      },
      "outputs": [],
      "source": [
        "\n"
      ]
    },
    {
      "cell_type": "markdown",
      "metadata": {
        "id": "ZjXBfNHwarfV"
      },
      "source": [
        "#### **UTILIZAÇÃO BÁSICA**"
      ]
    },
    {
      "cell_type": "code",
      "execution_count": null,
      "metadata": {
        "id": "bNqB40PlbAWx",
        "colab": {
          "base_uri": "https://localhost:8080/",
          "height": 141
        },
        "outputId": "eff1e09f-f98d-4ca1-de57-8b2e7e321ccb"
      },
      "outputs": [
        {
          "output_type": "error",
          "ename": "IndentationError",
          "evalue": "ignored",
          "traceback": [
            "\u001b[0;36m  File \u001b[0;32m\"<ipython-input-9-52e1eabd46b5>\"\u001b[0;36m, line \u001b[0;32m6\u001b[0m\n\u001b[0;31m    '# Defina o token do seu bot\u001b[0m\n\u001b[0m    ^\u001b[0m\n\u001b[0;31mIndentationError\u001b[0m\u001b[0;31m:\u001b[0m unexpected indent\n"
          ]
        }
      ],
      "source": [
        "# **Passo 04: Utilização Básica da API**\n",
        "# Demonstre como fazer uma solicitação simples à API.\n",
        "\n",
        "import telegram\n",
        "\n",
        "  '# Defina o token do seu bot\n",
        "  TOKEN = 'seu_token_aqui'\n",
        "\n",
        "  def enviar_mensagem(chat_id, mensagem):\n",
        "\n",
        "    bot = telegram.Bot(token=TOKEN)\n",
        "    bot.send_message(chat_id=chat_id, text=mensagem)\n",
        "\n",
        "  '# Exemplo de uso: enviar uma mensagem para um chat específico\n",
        "  chat_id = 'ID_do_chat_aqui'  # Substitua pelo ID do chat ou usuário de destino\n",
        "  mensagem = 'Olá, isso é uma mensagem de teste!'\n",
        "  enviar_mensagem(chat_id, mensagem)\n"
      ]
    },
    {
      "cell_type": "markdown",
      "metadata": {
        "id": "marqph_raryN"
      },
      "source": [
        "#### **EXEMPLOS PRÁTICOS**"
      ]
    },
    {
      "cell_type": "code",
      "execution_count": null,
      "metadata": {
        "id": "aL49vegTa_4e",
        "colab": {
          "base_uri": "https://localhost:8080/",
          "height": 141
        },
        "outputId": "8a84c645-4628-47ad-b8c4-7ee77919e3df"
      },
      "outputs": [
        {
          "output_type": "error",
          "ename": "SyntaxError",
          "evalue": "ignored",
          "traceback": [
            "\u001b[0;36m  File \u001b[0;32m\"<ipython-input-6-f904940d063a>\"\u001b[0;36m, line \u001b[0;32m7\u001b[0m\n\u001b[0;31m    '# Defina o token do seu bot\u001b[0m\n\u001b[0m    ^\u001b[0m\n\u001b[0;31mSyntaxError\u001b[0m\u001b[0;31m:\u001b[0m unterminated string literal (detected at line 7)\n"
          ]
        }
      ],
      "source": [
        "# **Passo 05: Exemplos Práticos**\n",
        "# Exemplo 1 - Responder a mensagens de texto:\n",
        "\n",
        "import telegram\n",
        "from telegram.ext import Updater, MessageHandler, Filters\n",
        "\n",
        "'# Defina o token do seu bot\n",
        "TOKEN = 'seu_token_aqui'\n",
        "\n",
        "  def handle_message(update, context):\n",
        "    message = update.message\n",
        "    text = message.text\n",
        "    chat_id = message.chat_id\n",
        "\n",
        "  # Responder à mensagem\n",
        "    response = 'Você disse: ' + text\n",
        "    context.bot.send_message(chat_id=chat_id, text=response)\n",
        "\n",
        "'# Configurar o bot\n",
        "updater = Updater(token=TOKEN, use_context=True)\n",
        "dispatcher = updater.dispatcher\n",
        "\n",
        "'# Configurar o manipulador de mensagens\n",
        "message_handler = MessageHandler(Filters.text, handle_message)\n",
        "dispatcher.add_handler(message_handler)\n",
        "\n",
        "'# Iniciar o bot\n",
        "updater.start_polling()\n",
        "\n",
        "# Exemplo 2 - Enviar uma foto em resposta a um comando:\n",
        "\n",
        "import telegram\n",
        "from telegram.ext import Updater, CommandHandler\n",
        "\n",
        "'# Defina o token do seu bot\n",
        "TOKEN = 'seu_token_aqui'\n",
        "\n",
        "def handle_start_command(update, context):\n",
        "    chat_id = update.message.chat_id\n",
        "\n",
        "    # Enviar uma foto em resposta ao comando /start\n",
        "    photo_url = 'https://example.com/photo.jpg'  # URL da foto\n",
        "    caption = 'Olá! Bem-vindo ao bot.'\n",
        "    context.bot.send_photo(chat_id=chat_id, photo=photo_url, caption=caption)\n",
        "\n",
        "# Configurar o bot\n",
        "updater = Updater(token=TOKEN, use_context=True)\n",
        "dispatcher = updater.dispatcher\n",
        "\n",
        "# Configurar o manipulador de comandos\n",
        "start_handler = CommandHandler('start', handle_start_command)\n",
        "dispatcher.add_handler(start_handler)\n",
        "\n",
        "# Iniciar o bot\n",
        "updater.start_polling()\n",
        "\n",
        "\n",
        "# Exemplo 3 - Processar atualizações de teclado inline:\n",
        "\n",
        "import telegram\n",
        "from telegram.ext import Updater, CallbackQueryHandler\n",
        "\n",
        "# Defina o token do seu bot\n",
        "TOKEN = 'seu_token_aqui'\n",
        "\n",
        "def handle_inline_keyboard(update, context):\n",
        "    query = update.callback_query\n",
        "    chat_id = query.message.chat_id\n",
        "    message_id = query.message.message_id\n",
        "\n",
        "    # Processar a resposta do teclado inline\n",
        "    if query.data == 'opcao1':\n",
        "        response = 'Você selecionou a opção 1.'\n",
        "    elif query.data == 'opcao2':\n",
        "        response = 'Você selecionou a opção 2.'\n",
        "    else:\n",
        "        response = 'Opção inválida.'\n",
        "\n",
        "    # Enviar a resposta\n",
        "    context.bot.edit_message_text(chat_id=chat_id, message_id=message_id,\n",
        "                                  text=response)\n",
        "\n",
        "# Configurar o bot\n",
        "updater = Updater(token=TOKEN, use_context=True)\n",
        "dispatcher = updater.dispatcher\n",
        "\n",
        "# Configurar o manipulador de teclado inline\n",
        "inline_keyboard_handler = CallbackQueryHandler(handle_inline_keyboard)\n",
        "dispatcher.add_handler(inline_keyboard_handler)\n",
        "\n",
        "# Iniciar o bot\n",
        "updater.start_polling()\n",
        "\n",
        "\n"
      ]
    },
    {
      "cell_type": "markdown",
      "metadata": {
        "id": "xIP2DoACa7of"
      },
      "source": [
        "#### **CONSIDERAÇÕES**"
      ]
    },
    {
      "cell_type": "markdown",
      "metadata": {
        "id": "dCRN197XbcQH"
      },
      "source": [
        "A criação de chatbots no Telegram usando notebooks é uma prática importante na área de Processamento de Linguagem Natural (PLN). Os chatbots são úteis porque podem ajudar as pessoas a obter respostas rápidas e automatizar tarefas. Os notebooks são ferramentas flexíveis e fáceis de usar para desenvolver chatbots. A API do Telegram permite que os chatbots sejam integrados ao aplicativo de mensagens. Isso significa que podemos criar chatbots que se comunicam com os usuários do Telegram.\n",
        "\n",
        "Ao usar notebooks para criar chatbots, podemos experimentar diferentes técnicas de PLN, como processamento de texto e geração de respostas. A API do Telegram oferece recursos para enviar e receber mensagens, interagir com os usuários e acessar documentação útil.\n",
        "\n",
        "Essa prática de criar chatbots é relevante porque pode ser aplicada em diferentes áreas, como atendimento ao cliente, comércio eletrônico e suporte técnico. Os chatbots também podem ser usados na saúde e educação, fornecendo soluções inovadoras.\n",
        "\n",
        "Em resumo, criar notebooks para desenvolver chatbots no Telegram usando técnicas de PLN é uma área empolgante. Com essa abordagem, podemos melhorar a interação entre humanos e máquinas, simplificar processos e fornecer serviços eficientes.inserir texto aqui"
      ]
    },
    {
      "cell_type": "markdown",
      "metadata": {
        "id": "DJa20CJRpQ7t"
      },
      "source": [
        "**REFERÊNCIAS**\n",
        "\n",
        "---\n",
        "\n",
        "MARSHAL, George Willson; SOELISTIJADI, R.. ChatBot SPBU 44.501.01 Menggunakan Telegram Bot API Dengan Metode Long-Polling. Jurnal Ilmiah Teknologi Informasi Asia, [S.l.], v. 17, n. 2, p. 125-132, july 2023. ISSN 2580-8397. Available at: <https://jurnal.stmikasia.ac.id/index.php/jitika/article/view/927>. Date accessed: 26 out. 2023. doi: https://doi.org/10.32815/jitika.v17i2.927.\n",
        "\n",
        "Manullang, E. B., Hartati, R., & Nasution , R. D. (2023). Utilization of Chatbot Telegram AI to Promote Students’ Creative and Innovative Entrepreneurship in Learning Context. SALTeL Journal (Southeast Asia Language Teaching and Learning), 6(2), 27–35. https://doi.org/10.35307/saltel.v6i2.111\n",
        "\n",
        "\n",
        "Programação Dinâmica. Como criar BOT no TELEGRAM em PYTHON | Python na Prática #10. [Vídeo]. Disponível em: https://youtube.com/watch?v=hOow3Omxm2U. Acesso em: 26 out. 2023.\n",
        "\n",
        "\n"
      ]
    },
    {
      "cell_type": "markdown",
      "metadata": {
        "id": "GxpuIOR3pUWr"
      },
      "source": [
        "Informar todas as referências usadas para a elaboração do **TUTORIAL**. Citar, por exemplo: vídeos no **YouTube**, artigos no **Medium** etc.\n",
        "\n",
        "**IMPORTANTE**: considerar referências **RECENTES** (3 meses)."
      ]
    }
  ],
  "metadata": {
    "colab": {
      "provenance": [],
      "include_colab_link": true
    },
    "kernelspec": {
      "display_name": "Python 3",
      "name": "python3"
    }
  },
  "nbformat": 4,
  "nbformat_minor": 0
}